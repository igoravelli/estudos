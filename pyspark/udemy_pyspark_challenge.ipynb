{
 "cells": [
  {
   "cell_type": "code",
   "execution_count": 99,
   "metadata": {},
   "outputs": [],
   "source": [
    "import os \n",
    "os.environ['JAVA_HOME'] = \"/usr/lib/jvm/java-8-openjdk-amd64\"\n",
    "os.environ['SPARK_HOME'] = \"./spark-2.3.1-bin-hadoop2.7\""
   ]
  },
  {
   "cell_type": "code",
   "execution_count": 100,
   "metadata": {},
   "outputs": [],
   "source": [
    "import findspark\n",
    "findspark.init()"
   ]
  },
  {
   "cell_type": "code",
   "execution_count": 101,
   "metadata": {},
   "outputs": [
    {
     "data": {
      "text/html": [
       "\n",
       "            <div>\n",
       "                <p><b>SparkSession - in-memory</b></p>\n",
       "                \n",
       "        <div>\n",
       "            <p><b>SparkContext</b></p>\n",
       "\n",
       "            <p><a href=\"http://172.20.114.55:4040\">Spark UI</a></p>\n",
       "\n",
       "            <dl>\n",
       "              <dt>Version</dt>\n",
       "                <dd><code>v2.3.1</code></dd>\n",
       "              <dt>Master</dt>\n",
       "                <dd><code>local[*]</code></dd>\n",
       "              <dt>AppName</dt>\n",
       "                <dd><code>pyspark-shell</code></dd>\n",
       "            </dl>\n",
       "        </div>\n",
       "        \n",
       "            </div>\n",
       "        "
      ],
      "text/plain": [
       "<pyspark.sql.session.SparkSession at 0x7ff45302c790>"
      ]
     },
     "execution_count": 101,
     "metadata": {},
     "output_type": "execute_result"
    }
   ],
   "source": [
    "import pyspark\n",
    "import pyspark.sql.functions as sqlfunc\n",
    "from pyspark.sql import SparkSession\n",
    "from pyspark.sql.types import *\n",
    "spark = SparkSession.builder.getOrCreate()\n",
    "spark"
   ]
  },
  {
   "cell_type": "code",
   "execution_count": 102,
   "metadata": {},
   "outputs": [
    {
     "name": "stdout",
     "output_type": "stream",
     "text": [
      "+---------------+--------------+-----------------+----------+\n",
      "|     ip_address|       Country|      Domain_Name|Bytes_used|\n",
      "+---------------+--------------+-----------------+----------+\n",
      "|  52.81.192.172|         China| odnoklassniki.ru|       463|\n",
      "| 119.239.207.13|         China|         youtu.be|        51|\n",
      "|  68.69.217.210|         China|        adobe.com|        10|\n",
      "|   7.191.21.223|      Bulgaria|     linkedin.com|       853|\n",
      "|   211.13.10.68|     Indonesia|          hud.gov|        29|\n",
      "|   239.80.21.97|      Suriname|       smh.com.au|       218|\n",
      "|106.214.106.233|       Jamaica|    amazonaws.com|        95|\n",
      "| 127.242.24.138|         China| surveymonkey.com|       123|\n",
      "|     99.2.6.139|Czech Republic|     geocities.jp|       322|\n",
      "|   237.54.11.63|         China|       amazon.com|        83|\n",
      "| 252.141.157.25|         Japan|      cornell.edu|       374|\n",
      "|185.220.128.248|       Belgium|       weebly.com|       389|\n",
      "|   151.77.19.45|   Afghanistan|independent.co.uk|       282|\n",
      "|  9.161.158.225|     Indonesia|    bloglines.com|       726|\n",
      "| 156.144.61.155|Czech Republic|   slideshare.net|       657|\n",
      "|   8.96.188.151|     Indonesia|          ibm.com|       517|\n",
      "|      5.72.7.65|        Mexico|         youtu.be|       877|\n",
      "|227.110.112.144|       Croatia|         ehow.com|       287|\n",
      "|    81.71.28.97|      Thailand|          last.fm|       588|\n",
      "|  9.255.129.184|      Thailand|          mtv.com|       114|\n",
      "+---------------+--------------+-----------------+----------+\n",
      "only showing top 20 rows\n",
      "\n"
     ]
    }
   ],
   "source": [
    "myschema = StructType([\n",
    "    StructField('ip_address', StringType()),\n",
    "    StructField('Country', StringType()),\n",
    "    StructField('Domain Name', StringType()),\n",
    "    StructField('Bytes_used', IntegerType())\n",
    "])\n",
    "df = spark.read.csv(\"challenge.csv\", header=True, schema=myschema)\n",
    "df = df.withColumnRenamed('Domain Name', 'Domain_Name')\n",
    "df.show()"
   ]
  },
  {
   "cell_type": "code",
   "execution_count": 103,
   "metadata": {},
   "outputs": [
    {
     "data": {
      "text/plain": [
       "[('ip_address', 'string'),\n",
       " ('Country', 'string'),\n",
       " ('Domain_Name', 'string'),\n",
       " ('Bytes_used', 'int')]"
      ]
     },
     "execution_count": 103,
     "metadata": {},
     "output_type": "execute_result"
    }
   ],
   "source": [
    "df.dtypes"
   ]
  },
  {
   "cell_type": "code",
   "execution_count": 104,
   "metadata": {},
   "outputs": [
    {
     "name": "stdout",
     "output_type": "stream",
     "text": [
      "+-------+------------+-----------+-------------+------------------+\n",
      "|summary|  ip_address|    Country|  Domain_Name|        Bytes_used|\n",
      "+-------+------------+-----------+-------------+------------------+\n",
      "|  count|        1000|       1000|         1000|              1000|\n",
      "|   mean|        null|       null|         null|           514.369|\n",
      "| stddev|        null|       null|         null|287.66708047357156|\n",
      "|    min|0.23.109.109|Afghanistan|123-reg.co.uk|                 1|\n",
      "|    max|99.73.193.76|     Zambia|   zimbio.com|              1000|\n",
      "+-------+------------+-----------+-------------+------------------+\n",
      "\n"
     ]
    }
   ],
   "source": [
    "df.describe().show()"
   ]
  },
  {
   "cell_type": "code",
   "execution_count": 105,
   "metadata": {},
   "outputs": [
    {
     "data": {
      "text/plain": [
       "['ip_address', 'Country', 'Domain_Name', 'Bytes_used']"
      ]
     },
     "execution_count": 105,
     "metadata": {},
     "output_type": "execute_result"
    }
   ],
   "source": [
    "df.columns"
   ]
  },
  {
   "cell_type": "code",
   "execution_count": 106,
   "metadata": {},
   "outputs": [
    {
     "data": {
      "text/plain": [
       "1000"
      ]
     },
     "execution_count": 106,
     "metadata": {},
     "output_type": "execute_result"
    }
   ],
   "source": [
    "df.count()"
   ]
  },
  {
   "cell_type": "code",
   "execution_count": 107,
   "metadata": {},
   "outputs": [
    {
     "data": {
      "text/plain": [
       "1000"
      ]
     },
     "execution_count": 107,
     "metadata": {},
     "output_type": "execute_result"
    }
   ],
   "source": [
    "df.distinct().count()"
   ]
  },
  {
   "cell_type": "code",
   "execution_count": 108,
   "metadata": {},
   "outputs": [
    {
     "name": "stdout",
     "output_type": "stream",
     "text": [
      "+---------------+--------------+-----------------+----------+\n",
      "|     ip_address|       Country|      Domain_Name|Bytes_used|\n",
      "+---------------+--------------+-----------------+----------+\n",
      "|  52.81.192.172|         China| odnoklassniki.ru|       463|\n",
      "| 119.239.207.13|         China|         youtu.be|        51|\n",
      "|  68.69.217.210|         China|        adobe.com|        10|\n",
      "|   7.191.21.223|      Bulgaria|     linkedin.com|       853|\n",
      "|   211.13.10.68|     Indonesia|          hud.gov|        29|\n",
      "|   239.80.21.97|      Suriname|       smh.com.au|       218|\n",
      "|106.214.106.233|       Jamaica|    amazonaws.com|        95|\n",
      "| 127.242.24.138|         China| surveymonkey.com|       123|\n",
      "|     99.2.6.139|Czech Republic|     geocities.jp|       322|\n",
      "|   237.54.11.63|         China|       amazon.com|        83|\n",
      "| 252.141.157.25|         Japan|      cornell.edu|       374|\n",
      "|185.220.128.248|       Belgium|       weebly.com|       389|\n",
      "|   151.77.19.45|   Afghanistan|independent.co.uk|       282|\n",
      "|  9.161.158.225|     Indonesia|    bloglines.com|       726|\n",
      "| 156.144.61.155|Czech Republic|   slideshare.net|       657|\n",
      "|   8.96.188.151|     Indonesia|          ibm.com|       517|\n",
      "|      5.72.7.65|        Mexico|         youtu.be|       877|\n",
      "|227.110.112.144|       Croatia|         ehow.com|       287|\n",
      "|    81.71.28.97|      Thailand|          last.fm|       588|\n",
      "|  9.255.129.184|      Thailand|          mtv.com|       114|\n",
      "+---------------+--------------+-----------------+----------+\n",
      "only showing top 20 rows\n",
      "\n"
     ]
    }
   ],
   "source": [
    "df_dropped = df.na.drop()\n",
    "df_dropped.show()"
   ]
  },
  {
   "cell_type": "code",
   "execution_count": 109,
   "metadata": {},
   "outputs": [
    {
     "name": "stdout",
     "output_type": "stream",
     "text": [
      "+----------+-------+-----------+----------+\n",
      "|ip_address|Country|Domain_Name|Bytes_used|\n",
      "+----------+-------+-----------+----------+\n",
      "+----------+-------+-----------+----------+\n",
      "\n"
     ]
    }
   ],
   "source": [
    "df_null_ip_address = df.filter(df.ip_address.isNull())\n",
    "df_null_ip_address.show()"
   ]
  },
  {
   "cell_type": "code",
   "execution_count": 110,
   "metadata": {},
   "outputs": [
    {
     "data": {
      "text/plain": [
       "1000"
      ]
     },
     "execution_count": 110,
     "metadata": {},
     "output_type": "execute_result"
    }
   ],
   "source": [
    "df_no_duplicates = df.dropDuplicates()\n",
    "df_no_duplicates.count()"
   ]
  },
  {
   "cell_type": "code",
   "execution_count": 111,
   "metadata": {},
   "outputs": [
    {
     "name": "stdout",
     "output_type": "stream",
     "text": [
      "+--------------+----------+\n",
      "|       Country|Bytes_used|\n",
      "+--------------+----------+\n",
      "|         China|       463|\n",
      "|         China|        51|\n",
      "|         China|        10|\n",
      "|      Bulgaria|       853|\n",
      "|     Indonesia|        29|\n",
      "|      Suriname|       218|\n",
      "|       Jamaica|        95|\n",
      "|         China|       123|\n",
      "|Czech Republic|       322|\n",
      "|         China|        83|\n",
      "|         Japan|       374|\n",
      "|       Belgium|       389|\n",
      "|   Afghanistan|       282|\n",
      "|     Indonesia|       726|\n",
      "|Czech Republic|       657|\n",
      "|     Indonesia|       517|\n",
      "|        Mexico|       877|\n",
      "|       Croatia|       287|\n",
      "|      Thailand|       588|\n",
      "|      Thailand|       114|\n",
      "+--------------+----------+\n",
      "only showing top 20 rows\n",
      "\n"
     ]
    }
   ],
   "source": [
    "df_selected = df.select(\"Country\", \"Bytes_used\")\n",
    "df_selected.show()"
   ]
  },
  {
   "cell_type": "code",
   "execution_count": 112,
   "metadata": {},
   "outputs": [
    {
     "name": "stdout",
     "output_type": "stream",
     "text": [
      "+--------------+-----+\n",
      "|       Country|Bytes|\n",
      "+--------------+-----+\n",
      "|         China|  463|\n",
      "|         China|   51|\n",
      "|         China|   10|\n",
      "|      Bulgaria|  853|\n",
      "|     Indonesia|   29|\n",
      "|      Suriname|  218|\n",
      "|       Jamaica|   95|\n",
      "|         China|  123|\n",
      "|Czech Republic|  322|\n",
      "|         China|   83|\n",
      "|         Japan|  374|\n",
      "|       Belgium|  389|\n",
      "|   Afghanistan|  282|\n",
      "|     Indonesia|  726|\n",
      "|Czech Republic|  657|\n",
      "|     Indonesia|  517|\n",
      "|        Mexico|  877|\n",
      "|       Croatia|  287|\n",
      "|      Thailand|  588|\n",
      "|      Thailand|  114|\n",
      "+--------------+-----+\n",
      "only showing top 20 rows\n",
      "\n"
     ]
    }
   ],
   "source": [
    "df_selected = df_selected.withColumnRenamed('Bytes_used', 'Bytes')\n",
    "df_selected.show()"
   ]
  },
  {
   "cell_type": "code",
   "execution_count": 113,
   "metadata": {},
   "outputs": [
    {
     "name": "stdout",
     "output_type": "stream",
     "text": [
      "+---------------+--------+-------------------+----------+\n",
      "|     ip_address| Country|        Domain_Name|Bytes_used|\n",
      "+---------------+--------+-------------------+----------+\n",
      "|    81.71.28.97|Thailand|            last.fm|       588|\n",
      "|  9.255.129.184|Thailand|            mtv.com|       114|\n",
      "|   33.93.113.70|Thailand|          goo.ne.jp|       527|\n",
      "|   111.9.45.159|Thailand|cargocollective.com|       974|\n",
      "|   38.121.13.55|Thailand|        yahoo.co.jp|        48|\n",
      "| 236.194.113.84|Thailand|         eepurl.com|       108|\n",
      "| 206.27.230.110|Thailand|          globo.com|        54|\n",
      "|   9.119.201.93|Thailand|             cbc.ca|       755|\n",
      "|149.212.121.228|Thailand|       freewebs.com|       936|\n",
      "|  156.15.114.21|Thailand|      bloglovin.com|       462|\n",
      "|  17.98.227.131|Thailand|      cafepress.com|       847|\n",
      "| 56.170.142.166|Thailand|            mapy.cz|       771|\n",
      "+---------------+--------+-------------------+----------+\n",
      "\n"
     ]
    }
   ],
   "source": [
    "df_filtered = df.filter(df.Country == \"Thailand\")\n",
    "df_filtered.show()"
   ]
  },
  {
   "cell_type": "code",
   "execution_count": 114,
   "metadata": {},
   "outputs": [
    {
     "name": "stdout",
     "output_type": "stream",
     "text": [
      "+---------------+--------------+-----------+----------+\n",
      "|     ip_address|       Country|Domain_Name|Bytes_used|\n",
      "+---------------+--------------+-----------+----------+\n",
      "|145.211.141.165|Czech Republic|  yahoo.com|       917|\n",
      "|207.246.207.115|      Portugal|yahoo.co.jp|       494|\n",
      "|   38.121.13.55|      Thailand|yahoo.co.jp|        48|\n",
      "+---------------+--------------+-----------+----------+\n",
      "\n"
     ]
    }
   ],
   "source": [
    "df_filtered = df.filter(df.Domain_Name.like('%yahoo%'))\n",
    "df_filtered.show()"
   ]
  },
  {
   "cell_type": "code",
   "execution_count": 115,
   "metadata": {},
   "outputs": [
    {
     "name": "stdout",
     "output_type": "stream",
     "text": [
      "+---------------+--------------------+--------------+----------+\n",
      "|     ip_address|             Country|   Domain_Name|Bytes_used|\n",
      "+---------------+--------------------+--------------+----------+\n",
      "|     99.2.6.139|      Czech Republic|  geocities.jp|       322|\n",
      "| 83.130.135.105|Palestinian Terri...|        i2i.jp|       222|\n",
      "|   33.93.113.70|            Thailand|     goo.ne.jp|       527|\n",
      "|  45.253.75.255|           Australia|  hatena.ne.jp|       784|\n",
      "| 171.83.105.111|               China|   shop-pro.jp|       210|\n",
      "| 82.101.222.230|              France|     ameblo.jp|       573|\n",
      "|  58.242.19.151|              Brazil|  amazon.co.jp|       261|\n",
      "|207.246.207.115|            Portugal|   yahoo.co.jp|       494|\n",
      "|    3.3.143.240|               China|     ameblo.jp|       624|\n",
      "|   38.121.13.55|            Thailand|   yahoo.co.jp|        48|\n",
      "|  92.75.110.241|             Nigeria| rakuten.co.jp|       645|\n",
      "|177.137.179.144|               China|  google.co.jp|       553|\n",
      "| 155.191.132.94|               Syria|    dion.ne.jp|       610|\n",
      "| 154.34.244.199|               China|  amazon.co.jp|       897|\n",
      "|    94.75.33.24|                Peru|     ocn.ne.jp|       893|\n",
      "| 206.17.144.104|              Russia|   plala.or.jp|       208|\n",
      "|    145.56.46.0|             Nigeria|infoseek.co.jp|       494|\n",
      "|  6.139.183.106|           Indonesia|  google.co.jp|       428|\n",
      "|118.137.231.232|         Philippines|  hatena.ne.jp|       706|\n",
      "|   3.148.125.83|              Brazil|     ocn.ne.jp|       477|\n",
      "+---------------+--------------------+--------------+----------+\n",
      "only showing top 20 rows\n",
      "\n"
     ]
    }
   ],
   "source": [
    "df_filtered = df.filter(df.Domain_Name.endswith('jp'))\n",
    "df_filtered.show()"
   ]
  },
  {
   "cell_type": "code",
   "execution_count": 116,
   "metadata": {},
   "outputs": [
    {
     "name": "stdout",
     "output_type": "stream",
     "text": [
      "+---------------+-------------+-------------+----------+\n",
      "|     ip_address|      Country|  Domain_Name|Bytes_used|\n",
      "+---------------+-------------+-------------+----------+\n",
      "|    4.68.10.108|   Luxembourg|google.com.br|       714|\n",
      "|200.223.169.213|        China|    google.es|       812|\n",
      "| 88.128.235.155|      Nigeria|google.com.au|       977|\n",
      "|242.114.173.239|       Russia|    google.fr|       576|\n",
      "|  26.241.29.104|    Indonesia|    google.ru|       118|\n",
      "|  29.135.81.252|        Japan|google.com.hk|       712|\n",
      "|177.137.179.144|        China| google.co.jp|       553|\n",
      "|115.125.231.241|         Mali|    google.es|       692|\n",
      "|  48.219.231.50|       Brazil|    google.nl|       805|\n",
      "|   207.47.1.181|        Chile| google.co.uk|       530|\n",
      "| 63.183.213.112|    Indonesia|    google.es|       260|\n",
      "|  6.139.183.106|    Indonesia| google.co.jp|       428|\n",
      "|208.240.139.238|      Vietnam|    google.de|       180|\n",
      "| 24.217.136.187|     Honduras| google.co.uk|       265|\n",
      "|    64.159.2.86|United States|    google.pl|       676|\n",
      "| 25.243.207.252|       Serbia|    google.it|       100|\n",
      "|   151.35.83.98|        China|    google.pl|       520|\n",
      "| 150.209.16.186|        Japan|    google.pl|       168|\n",
      "| 137.35.213.184|        China|    google.ru|        89|\n",
      "|  178.39.28.117|        Chile|    google.es|       572|\n",
      "+---------------+-------------+-------------+----------+\n",
      "only showing top 20 rows\n",
      "\n"
     ]
    }
   ],
   "source": [
    "df_filtered = df.filter(df.Domain_Name.startswith('google'))\n",
    "df_filtered.show()"
   ]
  },
  {
   "cell_type": "code",
   "execution_count": 117,
   "metadata": {},
   "outputs": [
    {
     "name": "stdout",
     "output_type": "stream",
     "text": [
      "+---------------+-------------+----------------+----------+\n",
      "|     ip_address|      Country|     Domain_Name|Bytes_used|\n",
      "+---------------+-------------+----------------+----------+\n",
      "| 127.242.24.138|        China|surveymonkey.com|       123|\n",
      "|  9.255.129.184|     Thailand|         mtv.com|       114|\n",
      "|  190.58.76.137|      Georgia|      forbes.com|       179|\n",
      "|    80.54.8.201|       Canada|      unicef.org|       190|\n",
      "|   66.116.15.48|   Uzbekistan|      forbes.com|       181|\n",
      "| 145.55.140.212|    Macedonia|       hexun.com|       173|\n",
      "|  121.5.177.135|    Indonesia|       cam.ac.uk|       162|\n",
      "|  97.86.218.248|       Cyprus|        youtu.be|       140|\n",
      "| 37.138.177.130|       France|    bandcamp.com|       101|\n",
      "|  88.180.97.194|     Dominica|  craigslist.org|       161|\n",
      "|  167.149.73.18|      Ukraine| hugedomains.com|       113|\n",
      "|228.102.179.239|        China|        fema.gov|       126|\n",
      "| 79.181.183.168|       France|         bbb.org|       180|\n",
      "|  26.10.139.188|       Brazil|     harvard.edu|       192|\n",
      "| 91.246.119.142|  Philippines| studiopress.com|       196|\n",
      "| 66.146.153.158|       Poland|     oaic.gov.au|       146|\n",
      "| 226.104.68.112|        China| miibeian.gov.cn|       150|\n",
      "|   0.23.109.109|    Indonesia|          go.com|       138|\n",
      "|229.243.160.116|United States|       github.io|       191|\n",
      "|  26.241.29.104|    Indonesia|       google.ru|       118|\n",
      "+---------------+-------------+----------------+----------+\n",
      "only showing top 20 rows\n",
      "\n"
     ]
    }
   ],
   "source": [
    "df_filtered = df.filter(df.Bytes_used.between(100, 200))\n",
    "df_filtered.show()"
   ]
  },
  {
   "cell_type": "code",
   "execution_count": 118,
   "metadata": {},
   "outputs": [
    {
     "name": "stdout",
     "output_type": "stream",
     "text": [
      "+---------------+-------------+---------------+----------+\n",
      "|     ip_address|      Country|    Domain_Name|Bytes_used|\n",
      "+---------------+-------------+---------------+----------+\n",
      "|   6.151.24.157|       Brazil|        fda.gov|       681|\n",
      "|  130.18.50.132|       Brazil|      alexa.com|       342|\n",
      "|155.211.189.235|United States|      globo.com|       967|\n",
      "|  185.75.79.171|United States|        who.int|       709|\n",
      "| 169.17.113.145|United States|       ucla.edu|        73|\n",
      "|  234.78.226.71|       Brazil|        bbb.org|       290|\n",
      "|  58.242.19.151|       Brazil|   amazon.co.jp|       261|\n",
      "|244.157.229.246|United States|  discovery.com|       779|\n",
      "|  220.173.47.44|       Brazil|  wordpress.com|       674|\n",
      "|  252.28.12.113|       Brazil|  earthlink.net|       681|\n",
      "| 26.225.202.178|       Brazil|   redcross.org|       898|\n",
      "|243.114.149.195|       Brazil|      house.gov|        74|\n",
      "| 254.65.122.193|United States|     utexas.edu|       441|\n",
      "|  26.10.139.188|       Brazil|    harvard.edu|       192|\n",
      "|   122.50.11.94|       Brazil|    comsenz.com|       761|\n",
      "|176.220.157.207|       Brazil|liveinternet.ru|       706|\n",
      "|229.243.160.116|United States|      github.io|       191|\n",
      "| 204.124.186.40|       Brazil|     tripod.com|       979|\n",
      "|    225.89.83.1|       Brazil|     jalbum.net|       626|\n",
      "|   64.155.93.33|       Brazil|    weather.com|       347|\n",
      "+---------------+-------------+---------------+----------+\n",
      "only showing top 20 rows\n",
      "\n"
     ]
    }
   ],
   "source": [
    "df_filtered = df.filter(df.Country.isin('Brazil', 'United States'))\n",
    "df_filtered.show()"
   ]
  },
  {
   "cell_type": "code",
   "execution_count": 119,
   "metadata": {},
   "outputs": [
    {
     "name": "stdout",
     "output_type": "stream",
     "text": [
      "+--------------+-------------+\n",
      "|       Country|last_three_wd|\n",
      "+--------------+-------------+\n",
      "|         China|          ina|\n",
      "|         China|          ina|\n",
      "|         China|          ina|\n",
      "|      Bulgaria|          ria|\n",
      "|     Indonesia|          sia|\n",
      "|      Suriname|          ame|\n",
      "|       Jamaica|          ica|\n",
      "|         China|          ina|\n",
      "|Czech Republic|          lic|\n",
      "|         China|          ina|\n",
      "|         Japan|          pan|\n",
      "|       Belgium|          ium|\n",
      "|   Afghanistan|          tan|\n",
      "|     Indonesia|          sia|\n",
      "|Czech Republic|          lic|\n",
      "|     Indonesia|          sia|\n",
      "|        Mexico|          ico|\n",
      "|       Croatia|          tia|\n",
      "|      Thailand|          and|\n",
      "|      Thailand|          and|\n",
      "+--------------+-------------+\n",
      "only showing top 20 rows\n",
      "\n"
     ]
    }
   ],
   "source": [
    "df_substr = df.select(df.Country, df.Country.substr(-3, 3).alias('last_three_wd'))\n",
    "df_substr.show()"
   ]
  },
  {
   "cell_type": "code",
   "execution_count": 120,
   "metadata": {},
   "outputs": [
    {
     "name": "stdout",
     "output_type": "stream",
     "text": [
      "+---------------+-------------+---------------+----------+\n",
      "|     ip_address|      Country|    Domain_Name|Bytes_used|\n",
      "+---------------+-------------+---------------+----------+\n",
      "|   6.151.24.157|       Brazil|        fda.gov|       681|\n",
      "|  130.18.50.132|       Brazil|      alexa.com|       342|\n",
      "|155.211.189.235|United States|      globo.com|       967|\n",
      "|  185.75.79.171|United States|        who.int|       709|\n",
      "|  234.78.226.71|       Brazil|        bbb.org|       290|\n",
      "|  58.242.19.151|       Brazil|   amazon.co.jp|       261|\n",
      "|244.157.229.246|United States|  discovery.com|       779|\n",
      "|  220.173.47.44|       Brazil|  wordpress.com|       674|\n",
      "|  252.28.12.113|       Brazil|  earthlink.net|       681|\n",
      "| 26.225.202.178|       Brazil|   redcross.org|       898|\n",
      "| 254.65.122.193|United States|     utexas.edu|       441|\n",
      "|   122.50.11.94|       Brazil|    comsenz.com|       761|\n",
      "|176.220.157.207|       Brazil|liveinternet.ru|       706|\n",
      "| 204.124.186.40|       Brazil|     tripod.com|       979|\n",
      "|    225.89.83.1|       Brazil|     jalbum.net|       626|\n",
      "|   64.155.93.33|       Brazil|    weather.com|       347|\n",
      "|  93.101.144.34|       Brazil| cloudflare.com|       470|\n",
      "| 83.184.148.110|       Brazil|   trellian.com|       360|\n",
      "|  48.219.231.50|       Brazil|      google.nl|       805|\n",
      "|   31.191.8.138|       Brazil|    foxnews.com|       847|\n",
      "+---------------+-------------+---------------+----------+\n",
      "only showing top 20 rows\n",
      "\n"
     ]
    }
   ],
   "source": [
    "multi_filtered_df = df.filter((df.Country.isin('Brazil', 'United States')) & (df.Bytes_used > 200))\n",
    "multi_filtered_df.show()"
   ]
  },
  {
   "cell_type": "code",
   "execution_count": 121,
   "metadata": {},
   "outputs": [
    {
     "name": "stdout",
     "output_type": "stream",
     "text": [
      "+---------------+--------------+-----------------+----------+\n",
      "|     ip_address|       Country|      Domain_Name|Bytes_used|\n",
      "+---------------+--------------+-----------------+----------+\n",
      "|  52.81.192.172|         China| odnoklassniki.ru|       463|\n",
      "| 119.239.207.13|         China|         youtu.be|        51|\n",
      "|  68.69.217.210|         China|        adobe.com|        10|\n",
      "|   7.191.21.223|      Bulgaria|     linkedin.com|       853|\n",
      "|   211.13.10.68|     Indonesia|          hud.gov|        29|\n",
      "|   239.80.21.97|      Suriname|       smh.com.au|       218|\n",
      "|106.214.106.233|       Jamaica|    amazonaws.com|        95|\n",
      "| 127.242.24.138|         China| surveymonkey.com|       123|\n",
      "|     99.2.6.139|Czech Republic|     geocities.jp|       322|\n",
      "|   237.54.11.63|         China|       amazon.com|        83|\n",
      "| 252.141.157.25|         Japan|      cornell.edu|       374|\n",
      "|185.220.128.248|       Belgium|       weebly.com|       389|\n",
      "|   151.77.19.45|   Afghanistan|independent.co.uk|       282|\n",
      "|  9.161.158.225|     Indonesia|    bloglines.com|       726|\n",
      "| 156.144.61.155|Czech Republic|   slideshare.net|       657|\n",
      "|   8.96.188.151|     Indonesia|          ibm.com|       517|\n",
      "|      5.72.7.65|        Mexico|         youtu.be|       877|\n",
      "|227.110.112.144|       Croatia|         ehow.com|       287|\n",
      "|    81.71.28.97|      Thailand|          last.fm|       588|\n",
      "|  9.255.129.184|      Thailand|          mtv.com|       114|\n",
      "+---------------+--------------+-----------------+----------+\n",
      "only showing top 20 rows\n",
      "\n"
     ]
    }
   ],
   "source": [
    "df.registerTempTable('challenge')\n",
    "query1 = spark.sql('select * from challenge')\n",
    "query1.show()"
   ]
  },
  {
   "cell_type": "code",
   "execution_count": 122,
   "metadata": {},
   "outputs": [
    {
     "name": "stdout",
     "output_type": "stream",
     "text": [
      "+-----------+----------+\n",
      "|       Name|Bytes_used|\n",
      "+-----------+----------+\n",
      "|Thailand-FM|       588|\n",
      "|Thailand-OM|       114|\n",
      "|Thailand-JP|       527|\n",
      "|Thailand-OM|       974|\n",
      "|Thailand-JP|        48|\n",
      "|Thailand-OM|       108|\n",
      "|Thailand-OM|        54|\n",
      "|Thailand-CA|       755|\n",
      "|Thailand-OM|       936|\n",
      "|Thailand-OM|       462|\n",
      "|Thailand-OM|       847|\n",
      "|Thailand-CZ|       771|\n",
      "+-----------+----------+\n",
      "\n"
     ]
    }
   ],
   "source": [
    "query2 = spark.sql(\n",
    "    \"\"\"\n",
    "    select \n",
    "        CONCAT_WS('-', Country, UPPER(RIGHT(Domain_Name, 2))) as Name,\n",
    "        Bytes_used\n",
    "    from \n",
    "        challenge\n",
    "    where \n",
    "        Country = \"Thailand\"\n",
    "    \"\"\"\n",
    ")\n",
    "\n",
    "query2.show()"
   ]
  },
  {
   "cell_type": "code",
   "execution_count": 123,
   "metadata": {},
   "outputs": [
    {
     "name": "stdout",
     "output_type": "stream",
     "text": [
      "+---------------+--------------+-----------------+----------+--------------+\n",
      "|     ip_address|       Country|      Domain_Name|Bytes_used|Kilobytes_used|\n",
      "+---------------+--------------+-----------------+----------+--------------+\n",
      "|  52.81.192.172|         China| odnoklassniki.ru|       463|          0.45|\n",
      "| 119.239.207.13|         China|         youtu.be|        51|          0.05|\n",
      "|  68.69.217.210|         China|        adobe.com|        10|          0.01|\n",
      "|   7.191.21.223|      Bulgaria|     linkedin.com|       853|          0.83|\n",
      "|   211.13.10.68|     Indonesia|          hud.gov|        29|          0.03|\n",
      "|   239.80.21.97|      Suriname|       smh.com.au|       218|          0.21|\n",
      "|106.214.106.233|       Jamaica|    amazonaws.com|        95|          0.09|\n",
      "| 127.242.24.138|         China| surveymonkey.com|       123|          0.12|\n",
      "|     99.2.6.139|Czech Republic|     geocities.jp|       322|          0.31|\n",
      "|   237.54.11.63|         China|       amazon.com|        83|          0.08|\n",
      "| 252.141.157.25|         Japan|      cornell.edu|       374|          0.37|\n",
      "|185.220.128.248|       Belgium|       weebly.com|       389|          0.38|\n",
      "|   151.77.19.45|   Afghanistan|independent.co.uk|       282|          0.28|\n",
      "|  9.161.158.225|     Indonesia|    bloglines.com|       726|          0.71|\n",
      "| 156.144.61.155|Czech Republic|   slideshare.net|       657|          0.64|\n",
      "|   8.96.188.151|     Indonesia|          ibm.com|       517|           0.5|\n",
      "|      5.72.7.65|        Mexico|         youtu.be|       877|          0.86|\n",
      "|227.110.112.144|       Croatia|         ehow.com|       287|          0.28|\n",
      "|    81.71.28.97|      Thailand|          last.fm|       588|          0.57|\n",
      "|  9.255.129.184|      Thailand|          mtv.com|       114|          0.11|\n",
      "+---------------+--------------+-----------------+----------+--------------+\n",
      "only showing top 20 rows\n",
      "\n"
     ]
    }
   ],
   "source": [
    "df_with_calcu_column = df.withColumn('Kilobytes_used', round(df.Bytes_used/1024, 2))\n",
    "df_with_calcu_column.show()"
   ]
  },
  {
   "cell_type": "code",
   "execution_count": 134,
   "metadata": {},
   "outputs": [
    {
     "name": "stdout",
     "output_type": "stream",
     "text": [
      "+--------------+-----+------+---+----+\n",
      "|       Country|total|   avg|min| max|\n",
      "+--------------+-----+------+---+----+\n",
      "|         China|83398|484.87| 10| 988|\n",
      "|     Indonesia|57461|504.04|  4|1000|\n",
      "|        Russia|32193|574.88|  1| 967|\n",
      "|   Philippines|30338|466.74| 10| 960|\n",
      "|        Brazil|19047| 544.2| 74| 979|\n",
      "|        Poland|16549|533.84|  7| 954|\n",
      "|        Sweden|15422|550.79|  9| 935|\n",
      "|      Portugal|13197|573.78| 30| 971|\n",
      "|Czech Republic|12758| 554.7| 68| 986|\n",
      "|         Japan|12432|497.28| 40| 991|\n",
      "|        France|10559|502.81| 49| 968|\n",
      "|          Peru| 9980|525.26| 10| 921|\n",
      "|     Argentina| 8574|612.43| 25| 990|\n",
      "|       Ukraine| 8483|605.93| 44| 941|\n",
      "|      Colombia| 7215|424.41| 34| 925|\n",
      "| United States| 7080| 472.0| 38| 967|\n",
      "|        Canada| 6658|605.27| 61| 963|\n",
      "|        Mexico| 6293|484.08| 20| 877|\n",
      "|      Thailand| 6184|515.33| 48| 974|\n",
      "|       Nigeria| 6097|554.27| 52| 977|\n",
      "+--------------+-----+------+---+----+\n",
      "only showing top 20 rows\n",
      "\n"
     ]
    }
   ],
   "source": [
    "df_grouped = df.groupBy('Country').agg(sqlfunc.sum('Bytes_used').alias('total'),\n",
    "                                       round(sqlfunc.avg('Bytes_used'), 2).alias('avg'),\n",
    "                                       sqlfunc.min('Bytes_used').alias('min'),\n",
    "                                       sqlfunc.max('Bytes_used').alias('max'))\n",
    "\n",
    "df_grouped.sort('total', ascending=False).show()"
   ]
  },
  {
   "cell_type": "code",
   "execution_count": 137,
   "metadata": {},
   "outputs": [
    {
     "name": "stderr",
     "output_type": "stream",
     "text": [
      "                                                                                \r"
     ]
    }
   ],
   "source": [
    "# df_grouped.write.json('json_result_file.json')\n",
    "# df_grouped.write.csv('csv_result_file.csv')\n",
    "# df_grouped.write.parquet('parquet_result_file.parquet')"
   ]
  },
  {
   "cell_type": "code",
   "execution_count": null,
   "metadata": {},
   "outputs": [],
   "source": []
  },
  {
   "cell_type": "markdown",
   "metadata": {},
   "source": [
    "# Desafio:\n",
    "### 1. Crie uma nova coluna que identifique se a row é México"
   ]
  },
  {
   "cell_type": "code",
   "execution_count": 139,
   "metadata": {},
   "outputs": [
    {
     "name": "stdout",
     "output_type": "stream",
     "text": [
      "+---------------+--------------+-----------------+----------+---------+\n",
      "|     ip_address|       Country|      Domain_Name|Bytes_used|Is_Mexico|\n",
      "+---------------+--------------+-----------------+----------+---------+\n",
      "|  52.81.192.172|         China| odnoklassniki.ru|       463|       no|\n",
      "| 119.239.207.13|         China|         youtu.be|        51|       no|\n",
      "|  68.69.217.210|         China|        adobe.com|        10|       no|\n",
      "|   7.191.21.223|      Bulgaria|     linkedin.com|       853|       no|\n",
      "|   211.13.10.68|     Indonesia|          hud.gov|        29|       no|\n",
      "|   239.80.21.97|      Suriname|       smh.com.au|       218|       no|\n",
      "|106.214.106.233|       Jamaica|    amazonaws.com|        95|       no|\n",
      "| 127.242.24.138|         China| surveymonkey.com|       123|       no|\n",
      "|     99.2.6.139|Czech Republic|     geocities.jp|       322|       no|\n",
      "|   237.54.11.63|         China|       amazon.com|        83|       no|\n",
      "| 252.141.157.25|         Japan|      cornell.edu|       374|       no|\n",
      "|185.220.128.248|       Belgium|       weebly.com|       389|       no|\n",
      "|   151.77.19.45|   Afghanistan|independent.co.uk|       282|       no|\n",
      "|  9.161.158.225|     Indonesia|    bloglines.com|       726|       no|\n",
      "| 156.144.61.155|Czech Republic|   slideshare.net|       657|       no|\n",
      "|   8.96.188.151|     Indonesia|          ibm.com|       517|       no|\n",
      "|      5.72.7.65|        Mexico|         youtu.be|       877|      yes|\n",
      "|227.110.112.144|       Croatia|         ehow.com|       287|       no|\n",
      "|    81.71.28.97|      Thailand|          last.fm|       588|       no|\n",
      "|  9.255.129.184|      Thailand|          mtv.com|       114|       no|\n",
      "+---------------+--------------+-----------------+----------+---------+\n",
      "only showing top 20 rows\n",
      "\n"
     ]
    }
   ],
   "source": [
    "df = df.withColumn(\"Is_Mexico\", when(df.Country == 'Mexico', 'yes').otherwise('no'))\n",
    "df.show()"
   ]
  },
  {
   "cell_type": "markdown",
   "metadata": {},
   "source": [
    "### 2. Group a nova coluna e some os Bytes_used"
   ]
  },
  {
   "cell_type": "code",
   "execution_count": 145,
   "metadata": {},
   "outputs": [
    {
     "name": "stdout",
     "output_type": "stream",
     "text": [
      "+---------+------+\n",
      "|Is_Mexico| total|\n",
      "+---------+------+\n",
      "|      yes|  6293|\n",
      "|       no|508076|\n",
      "+---------+------+\n",
      "\n"
     ]
    }
   ],
   "source": [
    "challeng_result_2 = df.groupBy('Is_Mexico').agg(sqlfunc.sum('Bytes_used').alias('total'))\n",
    "challeng_result_2.sort('Is_Mexico', ascending=False).show()"
   ]
  },
  {
   "cell_type": "markdown",
   "metadata": {},
   "source": [
    "### 3. Agrupe pelo Country e use a sqlfunc.countDistinct para calcular o número de IPs distintos em cada país"
   ]
  },
  {
   "cell_type": "code",
   "execution_count": 146,
   "metadata": {},
   "outputs": [
    {
     "name": "stderr",
     "output_type": "stream",
     "text": [
      "[Stage 200:===================================================> (194 + 6) / 200]"
     ]
    },
    {
     "name": "stdout",
     "output_type": "stream",
     "text": [
      "+--------------+---+\n",
      "|       Country|qnt|\n",
      "+--------------+---+\n",
      "|         China|172|\n",
      "|     Indonesia|114|\n",
      "|   Philippines| 65|\n",
      "|        Russia| 56|\n",
      "|        Brazil| 35|\n",
      "|        Poland| 31|\n",
      "|        Sweden| 28|\n",
      "|         Japan| 25|\n",
      "|Czech Republic| 23|\n",
      "|      Portugal| 23|\n",
      "|        France| 21|\n",
      "|          Peru| 19|\n",
      "|      Colombia| 17|\n",
      "| United States| 15|\n",
      "|       Ukraine| 14|\n",
      "|     Argentina| 14|\n",
      "|        Mexico| 13|\n",
      "|      Thailand| 12|\n",
      "|       Nigeria| 11|\n",
      "|        Canada| 11|\n",
      "+--------------+---+\n",
      "only showing top 20 rows\n",
      "\n"
     ]
    },
    {
     "name": "stderr",
     "output_type": "stream",
     "text": [
      "                                                                                \r"
     ]
    }
   ],
   "source": [
    "challeng_result_3 = df.groupBy(\"Country\").agg(sqlfunc.countDistinct('Ip_address').alias('qnt'))\n",
    "challeng_result_3.sort('qnt', ascending=False).show()"
   ]
  }
 ],
 "metadata": {
  "interpreter": {
   "hash": "99b1d2facceacc96b76927792b5bf144a91c95da33d4f27bb1abdb97d6582e7d"
  },
  "kernelspec": {
   "display_name": "Python 3.9.7 ('base')",
   "language": "python",
   "name": "python3"
  },
  "language_info": {
   "codemirror_mode": {
    "name": "ipython",
    "version": 3
   },
   "file_extension": ".py",
   "mimetype": "text/x-python",
   "name": "python",
   "nbconvert_exporter": "python",
   "pygments_lexer": "ipython3",
   "version": "3.7.11"
  },
  "orig_nbformat": 4
 },
 "nbformat": 4,
 "nbformat_minor": 2
}
