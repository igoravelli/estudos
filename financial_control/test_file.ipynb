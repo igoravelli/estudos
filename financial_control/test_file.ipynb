{
 "cells": [
  {
   "cell_type": "code",
   "execution_count": 102,
   "metadata": {},
   "outputs": [],
   "source": [
    "import pandas as pd\n",
    "import numpy as np"
   ]
  },
  {
   "cell_type": "code",
   "execution_count": 103,
   "metadata": {},
   "outputs": [],
   "source": [
    "executions_df1 = pd.DataFrame({\n",
    "    'id': [123,456,789, 9090],\n",
    "    'start_time': ['2021-01-01', '2021-02-02', '2021-03-03', '2021-03-15'],\n",
    "    'end_time': ['2021-06-06', '2021-07-07', '2021-08-08', '2021-11-01']\n",
    "})\n",
    "\n",
    "names_df2 = pd.DataFrame({\n",
    "    'instance_id': [123,456,789],\n",
    "    'names': ['abc','def','jkl'],\n",
    "    'trash': [1,2,3]\n",
    "})\n",
    "\n",
    "product_name_df3 = pd.DataFrame({\n",
    "    'robot_id': [123,456,789, 9090],\n",
    "    'product_name': ['AAA','BBB','CCC','DDD']\n",
    "})"
   ]
  },
  {
   "cell_type": "code",
   "execution_count": 104,
   "metadata": {},
   "outputs": [
    {
     "data": {
      "text/html": [
       "<div>\n",
       "<style scoped>\n",
       "    .dataframe tbody tr th:only-of-type {\n",
       "        vertical-align: middle;\n",
       "    }\n",
       "\n",
       "    .dataframe tbody tr th {\n",
       "        vertical-align: top;\n",
       "    }\n",
       "\n",
       "    .dataframe thead th {\n",
       "        text-align: right;\n",
       "    }\n",
       "</style>\n",
       "<table border=\"1\" class=\"dataframe\">\n",
       "  <thead>\n",
       "    <tr style=\"text-align: right;\">\n",
       "      <th></th>\n",
       "      <th>id</th>\n",
       "      <th>start_time</th>\n",
       "      <th>end_time</th>\n",
       "      <th>names</th>\n",
       "      <th>product_name</th>\n",
       "    </tr>\n",
       "  </thead>\n",
       "  <tbody>\n",
       "    <tr>\n",
       "      <th>0</th>\n",
       "      <td>123</td>\n",
       "      <td>2021-01-01</td>\n",
       "      <td>2021-06-06</td>\n",
       "      <td>abc</td>\n",
       "      <td>AAA</td>\n",
       "    </tr>\n",
       "    <tr>\n",
       "      <th>1</th>\n",
       "      <td>456</td>\n",
       "      <td>2021-02-02</td>\n",
       "      <td>2021-07-07</td>\n",
       "      <td>def</td>\n",
       "      <td>BBB</td>\n",
       "    </tr>\n",
       "    <tr>\n",
       "      <th>2</th>\n",
       "      <td>789</td>\n",
       "      <td>2021-03-03</td>\n",
       "      <td>2021-08-08</td>\n",
       "      <td>jkl</td>\n",
       "      <td>CCC</td>\n",
       "    </tr>\n",
       "    <tr>\n",
       "      <th>3</th>\n",
       "      <td>9090</td>\n",
       "      <td>2021-03-15</td>\n",
       "      <td>2021-11-01</td>\n",
       "      <td>NaN</td>\n",
       "      <td>DDD</td>\n",
       "    </tr>\n",
       "  </tbody>\n",
       "</table>\n",
       "</div>"
      ],
      "text/plain": [
       "     id  start_time    end_time names product_name\n",
       "0   123  2021-01-01  2021-06-06   abc          AAA\n",
       "1   456  2021-02-02  2021-07-07   def          BBB\n",
       "2   789  2021-03-03  2021-08-08   jkl          CCC\n",
       "3  9090  2021-03-15  2021-11-01   NaN          DDD"
      ]
     },
     "execution_count": 104,
     "metadata": {},
     "output_type": "execute_result"
    }
   ],
   "source": [
    "# merging\n",
    "pd.merge(executions_df1, names_df2[['instance_id','names']], left_on='id', right_on='instance_id', how='left').merge(product_name_df3, left_on='id', right_on='robot_id', how='left').drop(columns=['instance_id','robot_id'])"
   ]
  },
  {
   "cell_type": "code",
   "execution_count": 105,
   "metadata": {},
   "outputs": [],
   "source": [
    "# tasks:\n",
    "# 1. multiplicar o instance_id por 100\n",
    "# 2. transformar os names em letras maiusculas\n",
    "# 3. remover a coluna trash\n",
    "\n",
    "# task 1\n",
    "def multiply_instance_per_ten(df):\n",
    "    df['instance_id'] *= 100\n",
    "\n",
    "    return df\n",
    "\n",
    "# task 2\n",
    "def capitalization_names(df):\n",
    "    df['names'] = df['names'].str.upper()\n",
    "\n",
    "    return df\n",
    "\n",
    "# task 3\n",
    "def remove_trash_column(df):\n",
    "    df.drop(columns='trash', inplace=True)\n",
    "\n",
    "    return df\n",
    "\n"
   ]
  },
  {
   "cell_type": "code",
   "execution_count": 106,
   "metadata": {},
   "outputs": [
    {
     "data": {
      "text/html": [
       "<div>\n",
       "<style scoped>\n",
       "    .dataframe tbody tr th:only-of-type {\n",
       "        vertical-align: middle;\n",
       "    }\n",
       "\n",
       "    .dataframe tbody tr th {\n",
       "        vertical-align: top;\n",
       "    }\n",
       "\n",
       "    .dataframe thead th {\n",
       "        text-align: right;\n",
       "    }\n",
       "</style>\n",
       "<table border=\"1\" class=\"dataframe\">\n",
       "  <thead>\n",
       "    <tr style=\"text-align: right;\">\n",
       "      <th></th>\n",
       "      <th>instance_id</th>\n",
       "      <th>names</th>\n",
       "    </tr>\n",
       "  </thead>\n",
       "  <tbody>\n",
       "    <tr>\n",
       "      <th>0</th>\n",
       "      <td>12300</td>\n",
       "      <td>ABC</td>\n",
       "    </tr>\n",
       "    <tr>\n",
       "      <th>1</th>\n",
       "      <td>45600</td>\n",
       "      <td>DEF</td>\n",
       "    </tr>\n",
       "    <tr>\n",
       "      <th>2</th>\n",
       "      <td>78900</td>\n",
       "      <td>JKL</td>\n",
       "    </tr>\n",
       "  </tbody>\n",
       "</table>\n",
       "</div>"
      ],
      "text/plain": [
       "   instance_id names\n",
       "0        12300   ABC\n",
       "1        45600   DEF\n",
       "2        78900   JKL"
      ]
     },
     "execution_count": 106,
     "metadata": {},
     "output_type": "execute_result"
    }
   ],
   "source": [
    "res = (\n",
    "    names_df2\n",
    "    .pipe(multiply_instance_per_ten)\n",
    "    .pipe(capitalization_names)\n",
    "    .pipe(remove_trash_column)\n",
    ")\n",
    "\n",
    "\n",
    "res\n"
   ]
  }
 ],
 "metadata": {
  "interpreter": {
   "hash": "916dbcbb3f70747c44a77c7bcd40155683ae19c65e1c03b4aa3499c5328201f1"
  },
  "kernelspec": {
   "display_name": "Python 3.8.10 64-bit",
   "language": "python",
   "name": "python3"
  },
  "language_info": {
   "codemirror_mode": {
    "name": "ipython",
    "version": 3
   },
   "file_extension": ".py",
   "mimetype": "text/x-python",
   "name": "python",
   "nbconvert_exporter": "python",
   "pygments_lexer": "ipython3",
   "version": "3.8.10"
  },
  "orig_nbformat": 4
 },
 "nbformat": 4,
 "nbformat_minor": 2
}
